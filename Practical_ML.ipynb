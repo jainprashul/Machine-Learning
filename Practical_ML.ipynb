{
  "nbformat": 4,
  "nbformat_minor": 0,
  "metadata": {
    "colab": {
      "name": "Practical ML",
      "provenance": [],
      "include_colab_link": true
    },
    "kernelspec": {
      "name": "python3",
      "display_name": "Python 3"
    },
    "accelerator": "TPU"
  },
  "cells": [
    {
      "cell_type": "markdown",
      "metadata": {
        "id": "view-in-github",
        "colab_type": "text"
      },
      "source": [
        "<a href=\"https://colab.research.google.com/github/jainprashul/Machine-Learning/blob/master/Practical_ML.ipynb\" target=\"_parent\"><img src=\"https://colab.research.google.com/assets/colab-badge.svg\" alt=\"Open In Colab\"/></a>"
      ]
    },
    {
      "cell_type": "markdown",
      "metadata": {
        "id": "y2gmQYdC31qg",
        "colab_type": "text"
      },
      "source": [
        "## Regression Intro using Sklearn Models"
      ]
    },
    {
      "cell_type": "code",
      "metadata": {
        "id": "qHzuf2jD4Hlp",
        "colab_type": "code",
        "colab": {}
      },
      "source": [
        "!pip install quandl"
      ],
      "execution_count": 0,
      "outputs": []
    },
    {
      "cell_type": "code",
      "metadata": {
        "id": "bpYLQKQ_5D1w",
        "colab_type": "code",
        "outputId": "790f4fc3-15ef-4b83-d4f2-78646b4f88d6",
        "colab": {
          "base_uri": "https://localhost:8080/",
          "height": 389
        }
      },
      "source": [
        "import pandas as pd\n",
        "import quandl, math , datetime\n",
        "import numpy as np\n",
        "from sklearn import preprocessing , model_selection , svm\n",
        "from sklearn.linear_model import LinearRegression\n",
        "\n",
        "# Pickle to save Data\n",
        "import pickle\n",
        "\n",
        "# plot data\n",
        "import matplotlib.pyplot as plt\n",
        "from matplotlib import style\n",
        "\n",
        "style.use('ggplot')\n",
        "\n",
        "\n",
        "# grab data\n",
        "df = quandl.get('WIKI/GOOGL', api_key='Cksi_sp_6B-kgM5KbDuH')\n",
        "\n",
        "df = df[['Adj. Open','Adj. High','Adj. Low','Adj. Close','Adj. Volume']]\n",
        "\n",
        "# added new cols in data\n",
        "df['HL %'] = (df['Adj. High'] - df['Adj. Close']) / df['Adj. Close'] * 100.00\n",
        "df['% Change'] = (df['Adj. Close'] - df['Adj. Open']) / df['Adj. Open'] * 100.00\n",
        "\n",
        "#set data \n",
        "df = df[['Adj. Close','HL %','% Change' ,'Adj. Volume']]\n",
        "\n",
        "#forcasting column\n",
        "forcast_col = 'Adj. Close'\n",
        "\n",
        "#fill blank data\n",
        "df.fillna(-99999, inplace=True)  \n",
        "\n",
        "# get 10% of data to predict\n",
        "forcast_outputs = int(math.ceil(0.01 * len(df)))\n",
        "\n",
        "# shift the predicted data shift to future data\n",
        "df['label'] = df[forcast_col].shift(-forcast_outputs)\n",
        "# print(df.tail())\n",
        "\n",
        "# define features X & labels Y\n",
        "X = np.array(df.drop(['label'], 1))\n",
        "\n",
        "\n",
        "df.dropna(inplace=True)\n",
        "y = np.array(df['label'])\n",
        "X = preprocessing.scale(X)\n",
        "\n",
        "# data with predictions\n",
        "X = X[: -forcast_outputs]\n",
        "# data on which prediction will happen\n",
        "X_lately = X[-forcast_outputs:]  \n",
        "df.dropna(inplace=True)\n",
        "\n",
        "# print(len(X), len(y))\n",
        "\n",
        "# create training & TESTING DATASET \n",
        "X_train , X_test , y_train , y_test = model_selection.train_test_split(X, y, test_size=0.2)\n",
        "\n",
        "# set classifer\n",
        "clf = LinearRegression()\n",
        "# train classifer\n",
        "clf.fit(X_train , y_train)\n",
        "\n",
        "# save classifer model \n",
        "with open('linearReg.pickle', 'wb') as f:\n",
        "    pickle.dump(clf , f)\n",
        "\n",
        "# load classifer from file\n",
        "loadfile = open('linearReg.pickle', 'rb')\n",
        "clf = pickle.load(loadfile)\n",
        "\n",
        "\n",
        "accuracy = clf.score(X_test , y_test)\n",
        "\n",
        "# print(accuracy)\n",
        "# predict data\n",
        "forcast_set = clf.predict(X_lately)\n",
        "\n",
        "print( forcast_set , accuracy ,forcast_outputs)\n",
        "\n",
        "df['Forcast'] = np.nan\n",
        "\n",
        "# ploting data \n",
        "last_date = df.iloc[-1].name\n",
        "last_unix = last_date.timestamp()\n",
        "one_day = 86400\n",
        "next_unix = last_unix + one_day\n",
        "\n",
        "for i in forcast_set :\n",
        "    next_date = datetime.datetime.fromtimestamp(next_unix)\n",
        "    next_unix += one_day\n",
        "    df.loc[next_date] = [np.nan for _ in range(len(df.columns)-1)] + [i]\n",
        "\n",
        "df['Adj. Close'].plot()\n",
        "df['Forcast'].plot()\n",
        "plt.legend(loc=4)\n",
        "plt.xlabel('Date')\n",
        "plt.ylabel('Price')\n",
        "plt.show()\n"
      ],
      "execution_count": 3,
      "outputs": [
        {
          "output_type": "stream",
          "text": [
            "[1076.50736425 1090.92514739 1104.91668412 1099.83151886 1093.44879717\n",
            " 1090.76128109 1089.10746342 1086.11523711 1080.02950451 1075.66745335\n",
            " 1073.2554543  1092.17543641 1110.62262339 1115.55724957 1130.25219374\n",
            " 1134.35232559 1133.1971694  1130.51948805 1132.38430239 1150.24456163\n",
            " 1150.0778159  1159.87382503 1156.58529535 1164.15646471 1184.08314503\n",
            " 1196.77403741 1191.46715859 1203.10212116 1208.67325678 1206.76795282\n",
            " 1197.50638873 1203.10965813 1201.55803422 1137.45262605 1084.96086009] 0.9792045122214929 35\n"
          ],
          "name": "stdout"
        },
        {
          "output_type": "display_data",
          "data": {
            "image/png": "[encoded data removed]",
            "text/plain": [
              "<Figure size 432x288 with 1 Axes>"
            ]
          },
          "metadata": {
            "tags": []
          }
        }
      ]
    },
    {
      "cell_type": "markdown",
      "metadata": {
        "id": "ic6KsxQGTstZ",
        "colab_type": "text"
      },
      "source": [
        "Best Fit Slope & Line for Regression "
      ]
    },
    {
      "cell_type": "code",
      "metadata": {
        "id": "LAywCL97VRlT",
        "colab_type": "code",
        "colab": {
          "base_uri": "https://localhost:8080/",
          "height": 265
        },
        "outputId": "4af8939d-c7c4-4baa-82cf-f2dc7e44026e"
      },
      "source": [
        "from statistics import mean\n",
        "import numpy as np\n",
        "import matplotlib.pyplot as plt\n",
        "\n",
        "# data points\n",
        "xs = np.array([1,2,3,4,5,6], dtype=np.float64)\n",
        "ys = np.array([5,4,6,5,6,7], dtype=np.float64)\n",
        "\n",
        "def bestFitSlope_Intercept(x, y) : \n",
        "    m = ((mean(xs)* mean(ys)) - mean(xs*ys)) / (mean(xs)**2 - mean(xs**2))\n",
        "    b = (mean(ys) - m*mean(xs))\n",
        "    return m, b\n",
        "\n",
        "m, b = bestFitSlope_Intercept(xs,ys)\n",
        "\n",
        "# points for line\n",
        "regression_line = [(m*x)+b for x in xs]\n",
        "\n",
        "\n",
        "plt.scatter(xs , ys)\n",
        "plt.plot(xs , regression_line)\n",
        "plt.show()\n",
        "\n"
      ],
      "execution_count": 6,
      "outputs": [
        {
          "output_type": "display_data",
          "data": {
            "image/png": "[encoded data removed]",
            "text/plain": [
              "<Figure size 432x288 with 1 Axes>"
            ]
          },
          "metadata": {
            "tags": []
          }
        }
      ]
    },
    {
      "cell_type": "markdown",
      "metadata": {
        "id": "LeP0hpuWapDK",
        "colab_type": "text"
      },
      "source": [
        "Coefficent of Regression - R squared"
      ]
    },
    {
      "cell_type": "code",
      "metadata": {
        "id": "1Q841OWZayAm",
        "colab_type": "code",
        "colab": {}
      },
      "source": [
        "def squared_error(ys_orig , ys_line) :\n",
        "    return ((ys_line - ys_orig)**2)\n",
        "\n",
        "def coefficent_of_determination()"
      ],
      "execution_count": 0,
      "outputs": []
    }
  ]
}